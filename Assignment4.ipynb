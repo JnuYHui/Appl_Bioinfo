{
 "cells": [
  {
   "cell_type": "markdown",
   "id": "7e5a6181-d9da-4e9b-a8b5-fcfda68471c9",
   "metadata": {},
   "source": [
    "# Check the current path and change to work dir"
   ]
  },
  {
   "cell_type": "code",
   "execution_count": 1,
   "id": "adb56c6c-0c68-4d9a-8f02-ec9207fce0d7",
   "metadata": {},
   "outputs": [
    {
     "name": "stdout",
     "output_type": "stream",
     "text": [
      "/shared/ifbstor1/home/huiyu/JupyterLab\n"
     ]
    }
   ],
   "source": [
    "pwd"
   ]
  },
  {
   "cell_type": "code",
   "execution_count": 2,
   "id": "21c4c72b-b041-41ec-8283-129815595a8a",
   "metadata": {},
   "outputs": [],
   "source": [
    "cd /shared/ifbstor1/home/huiyu/"
   ]
  },
  {
   "cell_type": "code",
   "execution_count": 3,
   "id": "7c53e5c4-f4e6-4920-9752-f51ec4fa5dcf",
   "metadata": {},
   "outputs": [
    {
     "name": "stdout",
     "output_type": "stream",
     "text": [
      "/shared/ifbstor1/home/huiyu\n"
     ]
    }
   ],
   "source": [
    "pwd"
   ]
  },
  {
   "cell_type": "code",
   "execution_count": 4,
   "id": "618845d9-eb13-4147-9f89-266a5f5438e6",
   "metadata": {},
   "outputs": [
    {
     "name": "stdout",
     "output_type": "stream",
     "text": [
      "Assignment4  Desktop  JupyterLab  shell-lesson-data.zip  user_guides\n"
     ]
    }
   ],
   "source": [
    "ls"
   ]
  },
  {
   "cell_type": "markdown",
   "id": "a1759b66-f9f4-43f2-957a-9d0ce31b5c51",
   "metadata": {},
   "source": [
    "# make dir"
   ]
  },
  {
   "cell_type": "code",
   "execution_count": 5,
   "id": "4820fc04-6a52-44c4-be5b-f7b134a2362b",
   "metadata": {},
   "outputs": [],
   "source": [
    "mkdir -p Assignment4/{data/seqs,scripts,analysis}"
   ]
  },
  {
   "cell_type": "code",
   "execution_count": 5,
   "id": "40f488c3-3474-46db-a0c9-220383d00da0",
   "metadata": {},
   "outputs": [],
   "source": [
    "cd Assignment4"
   ]
  },
  {
   "cell_type": "code",
   "execution_count": 6,
   "id": "aadbbf65-212c-421c-8f20-8445b9b83bc7",
   "metadata": {},
   "outputs": [
    {
     "name": "stdout",
     "output_type": "stream",
     "text": [
      "analysis  data\tscripts\n"
     ]
    }
   ],
   "source": [
    "ls"
   ]
  },
  {
   "cell_type": "markdown",
   "id": "7551f527-f31b-4fbe-b31e-67d1b56806b3",
   "metadata": {},
   "source": [
    "# Copy and zip fasta data"
   ]
  },
  {
   "cell_type": "code",
   "execution_count": 9,
   "id": "0c2b4cfc-29f9-4676-bd32-ed4c6757be20",
   "metadata": {},
   "outputs": [],
   "source": [
    "cp /shared/bank/refseq/refseq_213/fasta/viral.protein.faa ."
   ]
  },
  {
   "cell_type": "code",
   "execution_count": 10,
   "id": "0d715edc-0a16-4ec8-8353-41be2f22d6fd",
   "metadata": {},
   "outputs": [],
   "source": [
    "gzip data/seqs/viral.protein.faa"
   ]
  },
  {
   "cell_type": "markdown",
   "id": "50faebef-e3a4-4925-92fa-905225efe5ca",
   "metadata": {},
   "source": [
    "# count and handle data"
   ]
  },
  {
   "cell_type": "code",
   "execution_count": 18,
   "id": "526712d9-e878-4f1e-a2bf-a222303d568b",
   "metadata": {},
   "outputs": [
    {
     "name": "stdout",
     "output_type": "stream",
     "text": [
      "591092\n"
     ]
    }
   ],
   "source": [
    "zgrep -c \"^>\" viral.protein.faa"
   ]
  },
  {
   "cell_type": "code",
   "execution_count": 20,
   "id": "d081a6f0-ba5c-41f3-8949-e3897f92618e",
   "metadata": {},
   "outputs": [
    {
     "name": "stdout",
     "output_type": "stream",
     "text": [
      "viral.protein.faa.gz\n"
     ]
    }
   ],
   "source": [
    "ls"
   ]
  },
  {
   "cell_type": "code",
   "execution_count": 19,
   "id": "97e7079f-fea8-4967-89a2-d4194fa8e323",
   "metadata": {},
   "outputs": [
    {
     "name": "stdout",
     "output_type": "stream",
     "text": [
      ">YP_009137150.1 neurovirulence protein ICP34.5 [Human alphaherpesvirus 2]\n",
      "MSRRRGPRRRGPRRRPRPGAPAVPRPGAPAVPRPGALPTADSQMVPAYDSGTAVESAPAASSLLRRWLLVPQADDSDDAD\n",
      "YAGNDDAEWANSPPSEGGGKAPEAPHAAPAAACPPPPPRKERGPQRPLPPHLALRLRTTTEYLARLSLRRRRPPASPPAD\n",
      "APRGKVCFSPRVQVRHLVAWETAARLARRGSWARERADRDRFRRRVAAAEAVIGPCLEPEARARARARARAHEDGGPAEE\n",
      "EEAAAAARGSSAAAGPGRRAV\n",
      ">YP_009137151.1 ubiquitin E3 ligase ICP0 [Human alphaherpesvirus 2]\n",
      "MEPRPGTSSRADPGPERPPRQTPGTQPAAPHAWGMLNDMQWLASSDSEEETEVGISDDDLHRDSTSEAGSTDTEMFEAGL\n",
      "MDAATPPARPPAERQGSPTPADAQGSCGGGPVGEEEAEAGGGGDVCAVCTDEIAPPLRCQSFPCLHPFCIPCMKTWIPLR\n",
      "NTCPLCNTPVAYLIVGVTASGSFSTIPIVNDPRTRVEAEAAVRAGTAVDFIWTGNQRTAPRSLSLGGHTVRALSPTPPWP\n",
      "GTDDEDDDLADVDYVPPAPRRAPRRGGGGAGATRGTSQPAATRPAPPGAPRSSSSGGAPLRAGVGSGSGGGPAVAAVVPR\n"
     ]
    }
   ],
   "source": [
    "head /shared/bank/refseq/refseq_213/fasta/viral.protein.faa"
   ]
  },
  {
   "cell_type": "code",
   "execution_count": 20,
   "id": "f14b28e7-d0aa-4a6e-b7ed-e85dc5766dec",
   "metadata": {},
   "outputs": [],
   "source": [
    "cd /shared/ifbstor1/home/huiyu/Assignment4"
   ]
  },
  {
   "cell_type": "code",
   "execution_count": 24,
   "id": "62064b77-d663-464c-9e10-e3c9994fae29",
   "metadata": {},
   "outputs": [
    {
     "name": "stdout",
     "output_type": "stream",
     "text": [
      "analysis  data\tscripts\n"
     ]
    }
   ],
   "source": [
    "ls"
   ]
  },
  {
   "cell_type": "code",
   "execution_count": 12,
   "id": "f26373d5-e890-4c89-a878-e708f61889d7",
   "metadata": {},
   "outputs": [],
   "source": [
    "zgrep -o -e \"^>[A-Za-z0-9_]*\" data/seqs/viral.protein.faa.gz > data/identifier.txt"
   ]
  },
  {
   "cell_type": "code",
   "execution_count": 13,
   "id": "f92e8f02-2beb-4326-ab4f-45cfc38de87a",
   "metadata": {},
   "outputs": [
    {
     "name": "stdout",
     "output_type": "stream",
     "text": [
      ">YP_009137150\n",
      ">YP_009137151\n",
      ">YP_009137152\n",
      ">YP_009137153\n",
      ">YP_009137154\n",
      ">YP_009137155\n",
      ">YP_009137156\n",
      ">YP_009137157\n",
      ">YP_009137158\n",
      ">YP_009137159\n"
     ]
    }
   ],
   "source": [
    "head data/identifier.txt"
   ]
  },
  {
   "cell_type": "code",
   "execution_count": 15,
   "id": "21e096e1-aab1-4c45-95e8-e14a96cb8217",
   "metadata": {},
   "outputs": [],
   "source": [
    "sort data/identifier.txt| uniq -d"
   ]
  },
  {
   "cell_type": "markdown",
   "id": "861cb82e-c2ed-4eca-925d-a1255a7cca9f",
   "metadata": {},
   "source": [
    "# Check disk usage"
   ]
  },
  {
   "cell_type": "code",
   "execution_count": 19,
   "id": "8b3c032c-2b27-49a7-914b-61cdf09ff784",
   "metadata": {},
   "outputs": [
    {
     "name": "stdout",
     "output_type": "stream",
     "text": [
      "84M\t./data/seqs\n",
      "8.0K\t./data/.ipynb_checkpoints\n",
      "92M\t./data\n",
      "4.0K\t./scripts\n",
      "4.0K\t./analysis\n",
      "4.0K\t./.ipynb_checkpoints\n",
      "92M\t.\n"
     ]
    }
   ],
   "source": [
    "du -h"
   ]
  }
 ],
 "metadata": {
  "kernelspec": {
   "display_name": "Bash",
   "language": "bash",
   "name": "bash"
  },
  "language_info": {
   "codemirror_mode": "shell",
   "file_extension": ".sh",
   "mimetype": "text/x-sh",
   "name": "bash"
  }
 },
 "nbformat": 4,
 "nbformat_minor": 5
}
